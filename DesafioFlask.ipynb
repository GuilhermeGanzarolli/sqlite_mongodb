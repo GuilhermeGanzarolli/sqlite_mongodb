{
  "nbformat": 4,
  "nbformat_minor": 0,
  "metadata": {
    "colab": {
      "provenance": [],
      "authorship_tag": "ABX9TyO5+cqc+3dcxg6pG4U6MVg6",
      "include_colab_link": true
    },
    "kernelspec": {
      "name": "python3",
      "display_name": "Python 3"
    },
    "language_info": {
      "name": "python"
    }
  },
  "cells": [
    {
      "cell_type": "markdown",
      "metadata": {
        "id": "view-in-github",
        "colab_type": "text"
      },
      "source": [
        "<a href=\"https://colab.research.google.com/github/GuilhermeGanzarolli/sqlite_mongodb/blob/main/DesafioFlask.ipynb\" target=\"_parent\"><img src=\"https://colab.research.google.com/assets/colab-badge.svg\" alt=\"Open In Colab\"/></a>"
      ]
    },
    {
      "cell_type": "code",
      "execution_count": null,
      "metadata": {
        "id": "wMNaEdAwqwkJ"
      },
      "outputs": [],
      "source": [
        "!pip install flask_ngrok"
      ]
    },
    {
      "cell_type": "code",
      "source": [
        "import pandas as pf\n",
        "from flask_ngrok import run_with_ngrok\n",
        "from flask import request, jsonify, Flask\n",
        "import random as rk"
      ],
      "metadata": {
        "id": "1uclEGAxrA08"
      },
      "execution_count": null,
      "outputs": []
    },
    {
      "cell_type": "code",
      "source": [
        "app = Flask(__name__)\n",
        "run_with_ngrok(app)"
      ],
      "metadata": {
        "id": "pdLIMxt6r3r7"
      },
      "execution_count": null,
      "outputs": []
    },
    {
      "cell_type": "code",
      "source": [
        "d = {\n",
        "    1: {\"Number\": 1, \"Name\": \"Mahesh\", \"Age\": 25, \"City\": \"Bangalore\", \"Country\":\"India\"},\n",
        "    2: {\"Number\": 2, \"Name\": \"Alex\", \"Age\": 26, \"City\": \"London\", \"Country\":\"UK\"},\n",
        "    3: {\"Number\": 3, \"Name\": \"David\", \"Age\": 27, \"City\": \"San Francisco\", \"Country\":\"USA\"},\n",
        "    4: {\"Number\": 4, \"Name\": \"John\", \"Age\": 28, \"City\": \"Toronto\", \"Country\":\"Canada\"},\n",
        "    5: {\"Number\": 5, \"Name\": \"Chris\", \"Age\": 29, \"City\": \"Paris\", \"Country\":\"France\"}\n",
        "}"
      ],
      "metadata": {
        "id": "YWMv7dtnsKpa"
      },
      "execution_count": null,
      "outputs": []
    },
    {
      "cell_type": "code",
      "source": [
        "@app.route(\"/\")\n",
        "\n",
        "def home():\n",
        "  '''\n",
        "  O texto abaixo deve ser exibido em uma única linha\n",
        "  '''\n",
        "\n",
        "  return \"Hello World\""
      ],
      "metadata": {
        "id": "ipcQ3yFZsXKz"
      },
      "execution_count": null,
      "outputs": []
    },
    {
      "cell_type": "code",
      "source": [
        "@app.route(\"/input\")\n",
        "\n",
        "def input():\n",
        "  return jsonify(d)"
      ],
      "metadata": {
        "id": "q--VzxfVtHRD"
      },
      "execution_count": null,
      "outputs": []
    },
    {
      "cell_type": "code",
      "source": [
        "@app.route('/output',methods=['GET','POST'])\n",
        "\n",
        "def predJson():\n",
        "  pred = d.choice([\"positive\",\"negative\"])\n",
        "  nd = d\n",
        "  nd[\"prediction\"]=pred\n",
        "  return jsonify(nd)\n",
        "\n",
        "app.run()"
      ],
      "metadata": {
        "id": "G7DfxQHBtcWb"
      },
      "execution_count": null,
      "outputs": []
    }
  ]
}